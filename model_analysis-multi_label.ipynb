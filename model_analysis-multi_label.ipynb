{
 "cells": [
  {
   "cell_type": "code",
   "execution_count": 1,
   "metadata": {
    "collapsed": false
   },
   "outputs": [
    {
     "name": "stdout",
     "output_type": "stream",
     "text": [
      "Pipeline(steps=[('vectorizer', TfidfVectorizer(analyzer=u'word', binary=False, decode_error=u'strict',\n",
      "        dtype=<type 'numpy.int64'>, encoding=u'utf-8', input=u'content',\n",
      "        lowercase=True, max_df=1.0, max_features=None, min_df=1,\n",
      "        ngram_range=(1, 1), norm=None, preprocessor=None, smooth_idf...r_t=0.5, random_state=None, shuffle=True,\n",
      "       verbose=0, warm_start=False),\n",
      "          n_jobs=1))])\n",
      "MultiLabelBinarizer(classes=None, sparse_output=False)\n",
      "['Cancer' 'Congenital_disorders' 'Infectious_diseases'\n",
      " 'Machine_learning_algorithms' 'Medical_devices' 'Organs_(anatomy)'\n",
      " 'Rare_diseases']\n"
     ]
    },
    {
     "data": {
      "text/plain": [
       "('classifier',\n",
       " OneVsRestClassifier(estimator=SGDClassifier(alpha=0.0668613335714, average=False, class_weight=None,\n",
       "        epsilon=0.1, eta0=0.0, fit_intercept=True, l1_ratio=0.271813658162,\n",
       "        learning_rate='optimal', loss='log', n_iter=5, n_jobs=1,\n",
       "        penalty='elasticnet', power_t=0.5, random_state=None, shuffle=True,\n",
       "        verbose=0, warm_start=False),\n",
       "           n_jobs=1))"
      ]
     },
     "execution_count": 1,
     "metadata": {},
     "output_type": "execute_result"
    }
   ],
   "source": [
    "import os\n",
    "import pickle\n",
    "\n",
    "model = pickle.load(open(\"%s/model.pkl\" % os.getcwd()))\n",
    "print(model)\n",
    "binarizer = pickle.load(open(\"%s/binarizer.pkl\" % os.getcwd()))\n",
    "print(binarizer)\n",
    "print(binarizer.classes_)\n",
    "model.steps[1]"
   ]
  },
  {
   "cell_type": "code",
   "execution_count": 3,
   "metadata": {
    "collapsed": false
   },
   "outputs": [
    {
     "name": "stdout",
     "output_type": "stream",
     "text": [
      "                             precision    recall  f1-score   support\n",
      "\n",
      "                     Cancer       0.83      0.45      0.59        11\n",
      "       Congenital_disorders       0.46      0.41      0.43        32\n",
      "        Infectious_diseases       0.92      0.92      0.92        24\n",
      "Machine_learning_algorithms       1.00      1.00      1.00         9\n",
      "            Medical_devices       0.90      0.82      0.86        11\n",
      "           Organs_(anatomy)       1.00      1.00      1.00         3\n",
      "              Rare_diseases       0.92      0.95      0.93       148\n",
      "\n",
      "                avg / total       0.86      0.84      0.85       238\n",
      "\n",
      "Coverage error 2.0872\n",
      "Label ranking average precision 0.8431\n",
      "Jaccard Similarity Score 0.8188\n"
     ]
    }
   ],
   "source": [
    "# Load test X and y\n",
    "from sklearn.metrics import classification_report, coverage_error, jaccard_similarity_score, label_ranking_average_precision_score\n",
    "\n",
    "X_test = open(\"%s/X_test.txt\" % os.getcwd()).read().splitlines()\n",
    "y_test = open(\"%s/y_test.txt\" % os.getcwd()).read().splitlines()\n",
    "\n",
    "y_hat = model.predict(X_test)\n",
    "y_true = binarizer.transform([y.split(\",\") for y in y_test])\n",
    "\n",
    "print(classification_report(y_true, y_hat, target_names=binarizer.classes_))\n",
    "print(\"Coverage error %.4f\" % coverage_error(y_true, y_hat))\n",
    "print(\"Label ranking average precision %.4f\" % label_ranking_average_precision_score(y_true, y_hat))\n",
    "print(\"Jaccard Similarity Score %.4f\" % jaccard_similarity_score(y_true, y_hat))\n"
   ]
  },
  {
   "cell_type": "markdown",
   "metadata": {},
   "source": [
    "### Notes\n",
    "\n",
    "The confusion matrix tool doesn't support multi-label classification because inter-class confusion doesn't exist when classes are not mutually exclusive."
   ]
  }
 ],
 "metadata": {
  "kernelspec": {
   "display_name": "Python 2",
   "language": "python",
   "name": "python2"
  },
  "language_info": {
   "codemirror_mode": {
    "name": "ipython",
    "version": 2
   },
   "file_extension": ".py",
   "mimetype": "text/x-python",
   "name": "python",
   "nbconvert_exporter": "python",
   "pygments_lexer": "ipython2",
   "version": "2.7.11"
  }
 },
 "nbformat": 4,
 "nbformat_minor": 0
}
