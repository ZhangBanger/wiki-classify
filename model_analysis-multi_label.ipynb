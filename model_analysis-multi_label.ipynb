{
 "cells": [
  {
   "cell_type": "code",
   "execution_count": 12,
   "metadata": {
    "collapsed": false
   },
   "outputs": [
    {
     "name": "stdout",
     "output_type": "stream",
     "text": [
      "Pipeline(steps=[('vectorizer', TfidfVectorizer(analyzer=u'word', binary=False, decode_error=u'strict',\n",
      "        dtype=<type 'numpy.int64'>, encoding=u'utf-8', input=u'content',\n",
      "        lowercase=True, max_df=1.0, max_features=None, min_df=1,\n",
      "        ngram_range=(1, 1), norm='l1', preprocessor=None, smooth_idf...e,\n",
      "          learning_rate=1.38737077813, n_estimators=79, random_state=None),\n",
      "          n_jobs=1))])\n",
      "MultiLabelBinarizer(classes=None, sparse_output=False)\n",
      "['Cancer' 'Congenital_disorders' 'Infectious_diseases'\n",
      " 'Machine_learning_algorithms' 'Medical_devices' 'Organs_(anatomy)'\n",
      " 'Rare_diseases']\n"
     ]
    },
    {
     "data": {
      "text/plain": [
       "('classifier',\n",
       " OneVsRestClassifier(estimator=AdaBoostClassifier(algorithm='SAMME.R', base_estimator=None,\n",
       "           learning_rate=1.38737077813, n_estimators=79, random_state=None),\n",
       "           n_jobs=1))"
      ]
     },
     "execution_count": 12,
     "metadata": {},
     "output_type": "execute_result"
    }
   ],
   "source": [
    "import os\n",
    "import pickle\n",
    "\n",
    "model = pickle.load(open(\"%s/model.pkl\" % os.getcwd()))\n",
    "print(model)\n",
    "binarizer = pickle.load(open(\"%s/binarizer.pkl\" % os.getcwd()))\n",
    "print(binarizer)\n",
    "print(binarizer.classes_)\n",
    "model.steps[1]"
   ]
  },
  {
   "cell_type": "code",
   "execution_count": 20,
   "metadata": {
    "collapsed": false
   },
   "outputs": [
    {
     "name": "stdout",
     "output_type": "stream",
     "text": [
      "                             precision    recall  f1-score   support\n",
      "\n",
      "                     Cancer       0.86      0.55      0.67        11\n",
      "       Congenital_disorders       0.45      0.44      0.44        32\n",
      "        Infectious_diseases       0.91      0.83      0.87        24\n",
      "Machine_learning_algorithms       1.00      0.89      0.94         9\n",
      "            Medical_devices       0.90      0.82      0.86        11\n",
      "           Organs_(anatomy)       1.00      1.00      1.00         3\n",
      "              Rare_diseases       0.90      0.87      0.89       148\n",
      "\n",
      "                avg / total       0.84      0.79      0.82       238\n",
      "\n",
      "Coverage error 2.5\n",
      "Label ranking average precision 0.7791\n",
      "Jaccard Similarity Score 0.7469\n"
     ]
    }
   ],
   "source": [
    "# Load test X and y\n",
    "from sklearn.metrics import classification_report, coverage_error, jaccard_similarity_score, label_ranking_average_precision_score\n",
    "\n",
    "X_test = open(\"%s/X_test.txt\" % os.getcwd()).read().splitlines()\n",
    "y_test = open(\"%s/y_test.txt\" % os.getcwd()).read().splitlines()\n",
    "\n",
    "y_hat = model.predict(X_test)\n",
    "y_true = binarizer.transform([y.split(\",\") for y in y_test])\n",
    "\n",
    "print(classification_report(y_true, y_hat, target_names=binarizer.classes_))\n",
    "print(\"Coverage error %s\" % coverage_error(y_true, y_hat))\n",
    "print(\"Label ranking average precision %.4f\" % label_ranking_average_precision_score(y_true, y_hat))\n",
    "print(\"Jaccard Similarity Score %.4f\" % jaccard_similarity_score(y_true, y_hat))\n"
   ]
  },
  {
   "cell_type": "markdown",
   "metadata": {},
   "source": [
    "### Notes\n",
    "\n",
    "The confusion matrix tool doesn't support multi-label classification because inter-class confusion doesn't exist when classes are not mutually exclusive."
   ]
  }
 ],
 "metadata": {
  "kernelspec": {
   "display_name": "Python 2",
   "language": "python",
   "name": "python2"
  },
  "language_info": {
   "codemirror_mode": {
    "name": "ipython",
    "version": 2
   },
   "file_extension": ".py",
   "mimetype": "text/x-python",
   "name": "python",
   "nbconvert_exporter": "python",
   "pygments_lexer": "ipython2",
   "version": "2.7.11"
  }
 },
 "nbformat": 4,
 "nbformat_minor": 0
}
