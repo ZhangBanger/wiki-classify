{
 "cells": [
  {
   "cell_type": "code",
   "execution_count": 1,
   "metadata": {
    "collapsed": false
   },
   "outputs": [
    {
     "name": "stdout",
     "output_type": "stream",
     "text": [
      "Pipeline(steps=[('vectorizer', TfidfVectorizer(analyzer=u'word', binary=False, decode_error=u'strict',\n",
      "        dtype=<type 'numpy.int64'>, encoding=u'utf-8', input=u'content',\n",
      "        lowercase=True, max_df=1.0, max_features=None, min_df=1,\n",
      "        ngram_range=(1, 1), norm=None, preprocessor=None, smooth_idf...ty='elasticnet', power_t=0.5, random_state=None, shuffle=True,\n",
      "       verbose=0, warm_start=False))])\n"
     ]
    }
   ],
   "source": [
    "import os\n",
    "import pickle\n",
    "\n",
    "model_acc = pickle.load(open(\"%s/model-accuracy.pkl\" % os.getcwd()))\n",
    "print(model_acc)"
   ]
  },
  {
   "cell_type": "code",
   "execution_count": 2,
   "metadata": {
    "collapsed": false
   },
   "outputs": [
    {
     "name": "stdout",
     "output_type": "stream",
     "text": [
      "             precision    recall  f1-score   support\n",
      "\n",
      "    Cancer\n",
      "       1.00      0.67      0.80         6\n",
      "Congenital_disorders\n",
      "       0.55      0.17      0.26        36\n",
      "Infectious_diseases\n",
      "       0.91      0.95      0.93        21\n",
      "Machine_learning_algorithms\n",
      "       1.00      1.00      1.00        11\n",
      "Medical_devices\n",
      "       0.92      1.00      0.96        12\n",
      "Organs_(anatomy)\n",
      "       1.00      0.67      0.80         6\n",
      "Rare_diseases\n",
      "       0.80      0.95      0.87       140\n",
      "\n",
      "avg / total       0.79      0.82      0.79       232\n",
      "\n"
     ]
    }
   ],
   "source": [
    "# Load test X and y\n",
    "from sklearn.metrics import classification_report\n",
    "\n",
    "X_test = open(\"%s/X_test.txt\" % os.getcwd()).readlines()\n",
    "y_test = open(\"%s/y_test.txt\" % os.getcwd()).readlines()\n",
    "\n",
    "y_hat = model_acc.predict(X_test)\n",
    "y_true = y_test\n",
    "\n",
    "print(classification_report(y_true, y_hat))"
   ]
  },
  {
   "cell_type": "code",
   "execution_count": null,
   "metadata": {
    "collapsed": false
   },
   "outputs": [],
   "source": [
    "import matplotlib.pyplot as plt\n",
    "import numpy as np\n",
    "from sklearn.metrics import confusion_matrix\n",
    "from sklearn.utils.multiclass import unique_labels\n",
    "\n",
    "labels = unique_labels(y_test)\n",
    "\n",
    "confusion = confusion_matrix(y_true, y_hat)\n",
    "cm_normalized = confusion.astype('float') / confusion.sum(axis=1)[:, np.newaxis]\n",
    "plt.figure()\n",
    "\n",
    "def plot_confusion_matrix(cm, title='Confusion matrix', cmap=plt.cm.Blues):\n",
    "    plt.imshow(cm, interpolation='nearest', cmap=cmap)\n",
    "    plt.title(title)\n",
    "    plt.colorbar()\n",
    "    tick_marks = np.arange(len(labels))\n",
    "    plt.xticks(tick_marks, labels, rotation=45)\n",
    "    plt.yticks(tick_marks, labels)\n",
    "    plt.ylabel('True label')\n",
    "    plt.xlabel('Predicted label')\n",
    "\n",
    "plot_confusion_matrix(cm_normalized, title='Normalized confusion matrix')\n",
    "plt.show()"
   ]
  },
  {
   "cell_type": "markdown",
   "metadata": {},
   "source": [
    "### Notes\n",
    "\n",
    "From the plot, you can see that some of the examples in medical topics get classified as Rare_diseases. That's probably because of the class imbalance, which we can address with subsampling.\n",
    "\n",
    "Furthermore, since performance across classes was uneven, so at this point, I decided to use the macro average of F1 scores to optimize hyperparameters in that direction."
   ]
  }
 ],
 "metadata": {
  "kernelspec": {
   "display_name": "Python 2",
   "language": "python",
   "name": "python2"
  },
  "language_info": {
   "codemirror_mode": {
    "name": "ipython",
    "version": 2
   },
   "file_extension": ".py",
   "mimetype": "text/x-python",
   "name": "python",
   "nbconvert_exporter": "python",
   "pygments_lexer": "ipython2",
   "version": "2.7.11"
  }
 },
 "nbformat": 4,
 "nbformat_minor": 0
}
